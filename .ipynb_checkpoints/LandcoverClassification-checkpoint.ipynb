{
 "cells": [
  {
   "cell_type": "code",
   "execution_count": null,
   "metadata": {
    "id": "nqn0y_67eG2N"
   },
   "outputs": [],
   "source": [
    "import tensorflow as tf"
   ]
  },
  {
   "cell_type": "code",
   "execution_count": 3,
   "metadata": {
    "colab": {
     "base_uri": "https://localhost:8080/"
    },
    "id": "TTW-schrisjo",
    "outputId": "b428cb36-57cd-43d2-a23f-a9fc510d760a"
   },
   "outputs": [
    {
     "name": "stdout",
     "output_type": "stream",
     "text": [
      "Activated service account credentials for: [storage@my-project-1514011772068.iam.gserviceaccount.com]\n",
      "\n",
      "\n",
      "To take a quick anonymous survey, run:\n",
      "  $ gcloud survey\n",
      "\n",
      "Copying gs://my-project-1514011772068.appspot.com/Landcover.tfrecord.gz...\n",
      "/ [1 files][676.6 MiB/676.6 MiB]   68.3 MiB/s                                   \n",
      "Operation completed over 1 objects/676.6 MiB.                                    \n",
      "Copying gs://my-project-1514011772068.appspot.com/landcover.zip...\n",
      "- [1 files][328.6 MiB/328.6 MiB]   47.8 MiB/s                                   \n",
      "Operation completed over 1 objects/328.6 MiB.                                    \n",
      "Archive:  landcover.zip\n",
      "   creating: landcover/\n",
      "   creating: landcover/variables/\n",
      "  inflating: landcover/variables/variables.index  \n",
      "  inflating: landcover/variables/variables.data-00000-of-00001  \n",
      "  inflating: landcover/saved_model.pb  \n",
      "   creating: landcover/assets/\n"
     ]
    }
   ],
   "source": [
    "# !gcloud auth activate-service-account --key-file YOUR_BUCKET_KEY.json\n",
    "# !gsutil cp gs://YOUR_BUCKET_NAME/Landcover.tfrecord.gz .\n",
    "# !gsutil cp gs://YOUR_BUCKET_NAME/landcover.zip .\n",
    "# !unzip landcover.zip"
   ]
  },
  {
   "cell_type": "code",
   "execution_count": 4,
   "metadata": {
    "colab": {
     "base_uri": "https://localhost:8080/"
    },
    "id": "JNbGket2cDZL",
    "outputId": "d8bab27a-4436-4e35-fc44-fa1f095a2bd8"
   },
   "outputs": [
    {
     "name": "stdout",
     "output_type": "stream",
     "text": [
      "Copying gs://my-project-1514011772068.appspot.com/Landcover_Eval.tfrecord.gz...\n",
      "- [1 files][112.6 MiB/112.6 MiB]   16.6 MiB/s                                   \n",
      "Operation completed over 1 objects/112.6 MiB.                                    \n"
     ]
    }
   ],
   "source": [
    "!gsutil cp gs://my-project-1514011772068.appspot.com/Landcover_Eval.tfrecord.gz ."
   ]
  },
  {
   "cell_type": "code",
   "execution_count": 5,
   "metadata": {
    "id": "f80XEkxWjsed"
   },
   "outputs": [],
   "source": [
    "model = get_model()"
   ]
  },
  {
   "cell_type": "code",
   "execution_count": 6,
   "metadata": {
    "colab": {
     "base_uri": "https://localhost:8080/"
    },
    "id": "ltjVM0jhkSXh",
    "outputId": "70989f20-bd2a-423a-f7e5-7c5dbdcc2eb3"
   },
   "outputs": [
    {
     "data": {
      "text/plain": [
       "<tf.Tensor 'conv2d_91/truediv:0' shape=(None, None, None, 4) dtype=float32>"
      ]
     },
     "execution_count": 6,
     "metadata": {
      "tags": []
     },
     "output_type": "execute_result"
    }
   ],
   "source": [
    "model.output"
   ]
  },
  {
   "cell_type": "code",
   "execution_count": 7,
   "metadata": {
    "id": "rD4PvKDBeOCX"
   },
   "outputs": [],
   "source": [
    "KERNEL_SHAPE = [256, 256]\n",
    "COLUMNS = [\n",
    "  tf.io.FixedLenFeature(shape=KERNEL_SHAPE, dtype=tf.float32) for k in ['water','dev','vegi','wetland','B4','B3','B2',\"B7\",\"B6\",\"B5\"]\n",
    "]\n",
    "FEATURES_DICT = dict(zip(['water','dev','vegi','wetland','B3','B2',\"B7\",\"B6\",\"B5\"], COLUMNS))\n",
    "\n",
    "FEATURES_DICT = {\n",
    "    'water': tf.io.FixedLenFeature(shape=KERNEL_SHAPE, dtype=tf.float32),\n",
    "    'dev': tf.io.FixedLenFeature(shape=KERNEL_SHAPE, dtype=tf.float32),\n",
    "    'vegi': tf.io.FixedLenFeature(shape=KERNEL_SHAPE, dtype=tf.float32),\n",
    "    'wetland': tf.io.FixedLenFeature(shape=KERNEL_SHAPE, dtype=tf.float32),\n",
    "    'B4':tf.io.FixedLenFeature(shape=KERNEL_SHAPE, dtype=tf.float32),\n",
    "    'B3':tf.io.FixedLenFeature(shape=KERNEL_SHAPE, dtype=tf.float32),\n",
    "    'B2':tf.io.FixedLenFeature(shape=KERNEL_SHAPE, dtype=tf.float32),\n",
    "    'B7':tf.io.FixedLenFeature(shape=KERNEL_SHAPE, dtype=tf.float32),\n",
    "    'B6':tf.io.FixedLenFeature(shape=KERNEL_SHAPE, dtype=tf.float32),\n",
    "    'B5':tf.io.FixedLenFeature(shape=KERNEL_SHAPE, dtype=tf.float32)\n",
    "}\n",
    "def parse_tfrecord(example_proto):\n",
    "    return tf.io.parse_single_example(example_proto, FEATURES_DICT)\n",
    "\n",
    "def to_tuple(inputs):\n",
    "    inputsList = [inputs.get(key) for key in ['water','dev','vegi','wetland','B4','B3','B2',\"B7\",\"B6\",\"B5\"]]\n",
    "    stacked = tf.stack(inputsList, axis=0)\n",
    "  \n",
    "  # CHW to HWC\n",
    "    stacked = tf.transpose(stacked, [1, 2, 0])\n",
    "    return stacked[:,:,4:], stacked[:,:,:4]\n",
    "\n",
    "def get_dataset(filename):\n",
    "  # glob = tf.io.gfile.glob(filename)\n",
    "    dataset = tf.data.TFRecordDataset(filename, compression_type='GZIP')\n",
    "    dataset = dataset.map(parse_tfrecord)\n",
    "    dataset = dataset.map(to_tuple)\n",
    "    return dataset"
   ]
  },
  {
   "cell_type": "code",
   "execution_count": 8,
   "metadata": {
    "id": "GVEUo1xfj11U"
   },
   "outputs": [],
   "source": [
    "dataset = get_dataset('Landcover.tfrecord.gz').batch(10)\n",
    "eval_dataset = get_dataset('Landcover_Eval.tfrecord.gz').batch(10)"
   ]
  },
  {
   "cell_type": "code",
   "execution_count": 9,
   "metadata": {
    "colab": {
     "base_uri": "https://localhost:8080/"
    },
    "id": "HowhAtJZiCS4",
    "outputId": "a889c052-abf0-4481-c04d-c9824554a489"
   },
   "outputs": [
    {
     "name": "stdout",
     "output_type": "stream",
     "text": [
      "(10, 256, 256, 6)\n",
      "(10, 256, 256, 4)\n"
     ]
    }
   ],
   "source": [
    "for data in dataset:\n",
    "  print(data[0].shape)\n",
    "  print(data[1].shape)\n",
    "  break"
   ]
  },
  {
   "cell_type": "code",
   "execution_count": 5,
   "metadata": {
    "id": "K0SkcUTm95ry"
   },
   "outputs": [],
   "source": [
    "model = tf.keras.models.load_model('./landcover/')"
   ]
  },
  {
   "cell_type": "code",
   "execution_count": 17,
   "metadata": {
    "colab": {
     "base_uri": "https://localhost:8080/"
    },
    "id": "9TNLTRnulJD0",
    "outputId": "aa3d8daf-e1d8-4860-8af1-938bcde78f1b"
   },
   "outputs": [
    {
     "name": "stdout",
     "output_type": "stream",
     "text": [
      "Epoch 1/10\n",
      "      2/Unknown - 1s 251ms/step - loss: 0.0611 - categorical_accuracy: 0.5932WARNING:tensorflow:Callbacks method `on_train_batch_end` is slow compared to the batch time (batch time: 0.1063s vs `on_train_batch_end` time: 0.1774s). Check your callbacks.\n",
      "355/355 [==============================] - 109s 308ms/step - loss: 0.0696 - categorical_accuracy: 0.6880 - val_loss: 0.3170 - val_categorical_accuracy: 0.5956\n",
      "Epoch 2/10\n",
      "355/355 [==============================] - 109s 307ms/step - loss: 0.0673 - categorical_accuracy: 0.6896 - val_loss: 0.3214 - val_categorical_accuracy: 0.5972\n",
      "Epoch 3/10\n",
      "355/355 [==============================] - 109s 308ms/step - loss: 0.0669 - categorical_accuracy: 0.6882 - val_loss: 0.3205 - val_categorical_accuracy: 0.5898\n",
      "Epoch 4/10\n",
      "355/355 [==============================] - 110s 309ms/step - loss: 0.0669 - categorical_accuracy: 0.6876 - val_loss: 0.3234 - val_categorical_accuracy: 0.6007\n",
      "Epoch 5/10\n",
      "355/355 [==============================] - 109s 307ms/step - loss: 0.0667 - categorical_accuracy: 0.6871 - val_loss: 0.3141 - val_categorical_accuracy: 0.6045\n",
      "Epoch 6/10\n",
      "355/355 [==============================] - 109s 307ms/step - loss: 0.0661 - categorical_accuracy: 0.6869 - val_loss: 0.3165 - val_categorical_accuracy: 0.6135\n",
      "Epoch 7/10\n",
      "355/355 [==============================] - 109s 307ms/step - loss: 0.0652 - categorical_accuracy: 0.6885 - val_loss: 0.3146 - val_categorical_accuracy: 0.6407\n",
      "Epoch 8/10\n",
      "355/355 [==============================] - 109s 307ms/step - loss: 0.0645 - categorical_accuracy: 0.6877 - val_loss: 0.3166 - val_categorical_accuracy: 0.6383\n",
      "Epoch 9/10\n",
      "355/355 [==============================] - 109s 307ms/step - loss: 0.0649 - categorical_accuracy: 0.6889 - val_loss: 0.3099 - val_categorical_accuracy: 0.6229\n",
      "Epoch 10/10\n",
      "355/355 [==============================] - 109s 308ms/step - loss: 0.0653 - categorical_accuracy: 0.6902 - val_loss: 0.3250 - val_categorical_accuracy: 0.6240\n"
     ]
    },
    {
     "data": {
      "text/plain": [
       "<tensorflow.python.keras.callbacks.History at 0x7f99f5b892b0>"
      ]
     },
     "execution_count": 17,
     "metadata": {
      "tags": []
     },
     "output_type": "execute_result"
    }
   ],
   "source": [
    "model.fit_generator(dataset, validation_data=eval_dataset, epochs=10)\n",
    "    # x=dataset, \n",
    "    # epochs=10, \n",
    "    # steps_per_epoch=360, \n",
    "    # valida)"
   ]
  },
  {
   "cell_type": "code",
   "execution_count": null,
   "metadata": {
    "colab": {
     "base_uri": "https://localhost:8080/"
    },
    "id": "i8iOoh6Mdkyh",
    "outputId": "f36acdf4-f110-4329-d994-a21ed4491bb5"
   },
   "outputs": [
    {
     "name": "stdout",
     "output_type": "stream",
     "text": [
      "INFO:tensorflow:Assets written to: ./landcover/assets\n"
     ]
    }
   ],
   "source": [
    "model.save(\"./landcover/\")"
   ]
  },
  {
   "cell_type": "code",
   "execution_count": null,
   "metadata": {
    "colab": {
     "base_uri": "https://localhost:8080/"
    },
    "id": "7ekZIFv2xE4U",
    "outputId": "df1991d1-303c-4667-884e-b2ea29cae884"
   },
   "outputs": [
    {
     "name": "stdout",
     "output_type": "stream",
     "text": [
      "  adding: landcover/ (stored 0%)\n",
      "  adding: landcover/variables/ (stored 0%)\n",
      "  adding: landcover/variables/variables.index (deflated 79%)\n",
      "  adding: landcover/variables/variables.data-00000-of-00001 (deflated 8%)\n",
      "  adding: landcover/saved_model.pb (deflated 92%)\n",
      "  adding: landcover/assets/ (stored 0%)\n"
     ]
    }
   ],
   "source": [
    "!zip -r landcover.zip ./landcover"
   ]
  },
  {
   "cell_type": "code",
   "execution_count": null,
   "metadata": {
    "id": "rxMP8HPTxXTm"
   },
   "outputs": [],
   "source": []
  }
 ],
 "metadata": {
  "accelerator": "GPU",
  "colab": {
   "name": "LandcoverClassification.ipynb",
   "provenance": []
  },
  "kernelspec": {
   "display_name": "Python 3",
   "language": "python",
   "name": "python3"
  },
  "language_info": {
   "codemirror_mode": {
    "name": "ipython",
    "version": 3
   },
   "file_extension": ".py",
   "mimetype": "text/x-python",
   "name": "python",
   "nbconvert_exporter": "python",
   "pygments_lexer": "ipython3",
   "version": "3.7.6"
  }
 },
 "nbformat": 4,
 "nbformat_minor": 1
}
