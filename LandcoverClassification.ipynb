{
 "cells": [
  {
   "cell_type": "code",
   "execution_count": 1,
   "metadata": {
    "id": "nqn0y_67eG2N"
   },
   "outputs": [],
   "source": [
    "import tensorflow as tf\n",
    "from Unet import get_model"
   ]
  },
  {
   "cell_type": "code",
   "execution_count": 2,
   "metadata": {
    "colab": {
     "base_uri": "https://localhost:8080/"
    },
    "id": "TTW-schrisjo",
    "outputId": "b428cb36-57cd-43d2-a23f-a9fc510d760a"
   },
   "outputs": [],
   "source": [
    "!gcloud auth activate-service-account --key-file YOUR_BUCKET_KEY.json\n",
    "!gsutil cp gs://YOUR_BUCKET_NAME/Landcover.tfrecord.gz .\n",
    "!gsutil cp gs://YOUR_BUCKET_NAME/landcover.zip .\n",
    "!unzip landcover.zip"
   ]
  },
  {
   "cell_type": "code",
   "execution_count": 3,
   "metadata": {
    "colab": {
     "base_uri": "https://localhost:8080/"
    },
    "id": "JNbGket2cDZL",
    "outputId": "d8bab27a-4436-4e35-fc44-fa1f095a2bd8"
   },
   "outputs": [],
   "source": [
    "!gsutil cp gs://YOUR_BUCKET_NAME/Landcover_Eval.tfrecord.gz ."
   ]
  },
  {
   "cell_type": "code",
   "execution_count": 5,
   "metadata": {
    "id": "f80XEkxWjsed"
   },
   "outputs": [],
   "source": [
    "model = get_model()"
   ]
  },
  {
   "cell_type": "code",
   "execution_count": 6,
   "metadata": {
    "colab": {
     "base_uri": "https://localhost:8080/"
    },
    "id": "ltjVM0jhkSXh",
    "outputId": "70989f20-bd2a-423a-f7e5-7c5dbdcc2eb3"
   },
   "outputs": [
    {
     "data": {
      "text/plain": [
       "<tf.Tensor 'conv2d_91/truediv:0' shape=(None, None, None, 4) dtype=float32>"
      ]
     },
     "execution_count": 6,
     "metadata": {
      "tags": []
     },
     "output_type": "execute_result"
    }
   ],
   "source": [
    "model.output"
   ]
  },
  {
   "cell_type": "markdown",
   "metadata": {},
   "source": [
    "# Dataset Parsing Helpers"
   ]
  },
  {
   "cell_type": "code",
   "execution_count": 7,
   "metadata": {
    "id": "rD4PvKDBeOCX"
   },
   "outputs": [],
   "source": [
    "KERNEL_SHAPE = [256, 256]\n",
    "COLUMNS = [\n",
    "  tf.io.FixedLenFeature(shape=KERNEL_SHAPE, dtype=tf.float32) for k in ['water','dev','vegi','wetland','B4','B3','B2',\"B7\",\"B6\",\"B5\"]\n",
    "]\n",
    "FEATURES_DICT = dict(zip(['water','dev','vegi','wetland','B3','B2',\"B7\",\"B6\",\"B5\"], COLUMNS))\n",
    "\n",
    "FEATURES_DICT = {\n",
    "    'water': tf.io.FixedLenFeature(shape=KERNEL_SHAPE, dtype=tf.float32),\n",
    "    'dev': tf.io.FixedLenFeature(shape=KERNEL_SHAPE, dtype=tf.float32),\n",
    "    'vegi': tf.io.FixedLenFeature(shape=KERNEL_SHAPE, dtype=tf.float32),\n",
    "    'wetland': tf.io.FixedLenFeature(shape=KERNEL_SHAPE, dtype=tf.float32),\n",
    "    'B4':tf.io.FixedLenFeature(shape=KERNEL_SHAPE, dtype=tf.float32),\n",
    "    'B3':tf.io.FixedLenFeature(shape=KERNEL_SHAPE, dtype=tf.float32),\n",
    "    'B2':tf.io.FixedLenFeature(shape=KERNEL_SHAPE, dtype=tf.float32),\n",
    "    'B7':tf.io.FixedLenFeature(shape=KERNEL_SHAPE, dtype=tf.float32),\n",
    "    'B6':tf.io.FixedLenFeature(shape=KERNEL_SHAPE, dtype=tf.float32),\n",
    "    'B5':tf.io.FixedLenFeature(shape=KERNEL_SHAPE, dtype=tf.float32)\n",
    "}\n",
    "def parse_tfrecord(example_proto):\n",
    "    return tf.io.parse_single_example(example_proto, FEATURES_DICT)\n",
    "\n",
    "def to_tuple(inputs):\n",
    "    inputsList = [inputs.get(key) for key in ['water','dev','vegi','wetland','B4','B3','B2',\"B7\",\"B6\",\"B5\"]]\n",
    "    stacked = tf.stack(inputsList, axis=0)\n",
    "  \n",
    "    # CHW to HWC\n",
    "    stacked = tf.transpose(stacked, [1, 2, 0])\n",
    "    return stacked[:,:,4:], stacked[:,:,:4]\n",
    "\n",
    "def get_dataset(filename):\n",
    "    dataset = tf.data.TFRecordDataset(filename, compression_type='GZIP')\n",
    "    dataset = dataset.map(parse_tfrecord)\n",
    "    dataset = dataset.map(to_tuple)\n",
    "    return dataset"
   ]
  },
  {
   "cell_type": "code",
   "execution_count": 8,
   "metadata": {
    "id": "GVEUo1xfj11U"
   },
   "outputs": [],
   "source": [
    "dataset = get_dataset('Landcover.tfrecord.gz').batch(10)\n",
    "eval_dataset = get_dataset('Landcover_Eval.tfrecord.gz').batch(10)"
   ]
  },
  {
   "cell_type": "code",
   "execution_count": 9,
   "metadata": {
    "colab": {
     "base_uri": "https://localhost:8080/"
    },
    "id": "HowhAtJZiCS4",
    "outputId": "a889c052-abf0-4481-c04d-c9824554a489"
   },
   "outputs": [
    {
     "name": "stdout",
     "output_type": "stream",
     "text": [
      "(10, 256, 256, 6)\n",
      "(10, 256, 256, 4)\n"
     ]
    }
   ],
   "source": [
    "for data in dataset:\n",
    "    print(data[0].shape)\n",
    "    print(data[1].shape)\n",
    "    break"
   ]
  },
  {
   "cell_type": "code",
   "execution_count": 4,
   "metadata": {
    "colab": {
     "base_uri": "https://localhost:8080/"
    },
    "id": "9TNLTRnulJD0",
    "outputId": "aa3d8daf-e1d8-4860-8af1-938bcde78f1b"
   },
   "outputs": [],
   "source": [
    "model.fit_generator(dataset, validation_data=eval_dataset, epochs=50)\n",
    "    # x=dataset, \n",
    "    # epochs=10, \n",
    "    # steps_per_epoch=360, \n",
    "    # validation)"
   ]
  },
  {
   "cell_type": "code",
   "execution_count": null,
   "metadata": {
    "colab": {
     "base_uri": "https://localhost:8080/"
    },
    "id": "i8iOoh6Mdkyh",
    "outputId": "f36acdf4-f110-4329-d994-a21ed4491bb5"
   },
   "outputs": [
    {
     "name": "stdout",
     "output_type": "stream",
     "text": [
      "INFO:tensorflow:Assets written to: ./landcover/assets\n"
     ]
    }
   ],
   "source": [
    "model.save(\"./landcover/\")"
   ]
  },
  {
   "cell_type": "code",
   "execution_count": null,
   "metadata": {
    "colab": {
     "base_uri": "https://localhost:8080/"
    },
    "id": "7ekZIFv2xE4U",
    "outputId": "df1991d1-303c-4667-884e-b2ea29cae884"
   },
   "outputs": [
    {
     "name": "stdout",
     "output_type": "stream",
     "text": [
      "  adding: landcover/ (stored 0%)\n",
      "  adding: landcover/variables/ (stored 0%)\n",
      "  adding: landcover/variables/variables.index (deflated 79%)\n",
      "  adding: landcover/variables/variables.data-00000-of-00001 (deflated 8%)\n",
      "  adding: landcover/saved_model.pb (deflated 92%)\n",
      "  adding: landcover/assets/ (stored 0%)\n"
     ]
    }
   ],
   "source": [
    "!zip -r landcover.zip ./landcover"
   ]
  },
  {
   "cell_type": "code",
   "execution_count": null,
   "metadata": {
    "id": "rxMP8HPTxXTm"
   },
   "outputs": [],
   "source": []
  }
 ],
 "metadata": {
  "accelerator": "GPU",
  "colab": {
   "name": "LandcoverClassification.ipynb",
   "provenance": []
  },
  "kernelspec": {
   "display_name": "Python 3",
   "language": "python",
   "name": "python3"
  },
  "language_info": {
   "codemirror_mode": {
    "name": "ipython",
    "version": 3
   },
   "file_extension": ".py",
   "mimetype": "text/x-python",
   "name": "python",
   "nbconvert_exporter": "python",
   "pygments_lexer": "ipython3",
   "version": "3.7.6"
  }
 },
 "nbformat": 4,
 "nbformat_minor": 1
}
